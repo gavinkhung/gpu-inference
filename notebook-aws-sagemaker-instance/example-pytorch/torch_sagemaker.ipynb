{
 "cells": [
  {
   "cell_type": "code",
   "execution_count": null,
   "id": "eea14d97-77fe-41c7-825b-287477c6af89",
   "metadata": {},
   "outputs": [],
   "source": [
    "!pip install sagemaker --upgrade"
   ]
  },
  {
   "cell_type": "code",
   "execution_count": null,
   "id": "9c583f2c-abb9-4c27-ae69-81076ae45c8b",
   "metadata": {},
   "outputs": [],
   "source": [
    "import sagemaker\n",
    "\n",
    "sagemaker_session = sagemaker.Session()\n",
    "role = sagemaker.get_execution_role()"
   ]
  },
  {
   "cell_type": "code",
   "execution_count": null,
   "id": "48f94c67-11f5-412f-a0a5-64eb5457a13e",
   "metadata": {},
   "outputs": [],
   "source": [
    "use_spot_instances = True\n",
    "max_run=600\n",
    "max_wait = 1200 if use_spot_instances else None"
   ]
  },
  {
   "cell_type": "code",
   "execution_count": null,
   "id": "4a91d41d-6cfd-4ad2-b804-11ba68c26eda",
   "metadata": {},
   "outputs": [],
   "source": [
    "from sagemaker.pytorch import PyTorch\n",
    "\n",
    "estimator = PyTorch(\n",
    "    base_job_name=\"pytorch-model\",\n",
    "    source_dir=\"code\",\n",
    "    entry_point=\"model.py\",\n",
    "    role=role,\n",
    "    framework_version=\"2.0.1\",\n",
    "    py_version=\"py310\",\n",
    "    instance_count=1,\n",
    "    # ml.p3dn.24xlarge, ml.p4d.24xlarge, ml.g5.48xlarge\n",
    "    instance_type=\"ml.c5.2xlarge\",\n",
    "    use_spot_instances=use_spot_instances,\n",
    "    sagemaker_session=sagemaker_session,\n",
    "    hyperparameters={\"epochs\": 20, \"batch-size\": 64},\n",
    "    debugger_hook_config=False,\n",
    "    max_run=max_run,\n",
    "    max_wait=max_wait\n",
    ")"
   ]
  },
  {
   "cell_type": "code",
   "execution_count": null,
   "id": "bb303dac-a65c-4d61-9e3c-108eb8de181f",
   "metadata": {},
   "outputs": [],
   "source": [
    "estimator.fit()"
   ]
  },
  {
   "cell_type": "code",
   "execution_count": null,
   "id": "9595ceb3-4879-4551-aa4c-7249b0646679",
   "metadata": {},
   "outputs": [],
   "source": [
    "model_data = estimator.model_data\n",
    "print(\"Storing {} as model_data\".format(model_data))"
   ]
  }
 ],
 "metadata": {
  "kernelspec": {
   "display_name": "Python 3 (ipykernel)",
   "language": "python",
   "name": "python3"
  },
  "language_info": {
   "codemirror_mode": {
    "name": "ipython",
    "version": 3
   },
   "file_extension": ".py",
   "mimetype": "text/x-python",
   "name": "python",
   "nbconvert_exporter": "python",
   "pygments_lexer": "ipython3",
   "version": "3.9.12"
  }
 },
 "nbformat": 4,
 "nbformat_minor": 5
}
